{
  "nbformat": 4,
  "nbformat_minor": 0,
  "metadata": {
    "colab": {
      "name": "Clustering based CF-I.ipynb",
      "provenance": [],
      "collapsed_sections": [],
      "machine_shape": "hm"
    },
    "kernelspec": {
      "name": "python3",
      "display_name": "Python 3"
    }
  },
  "cells": [
    {
      "cell_type": "code",
      "metadata": {
        "id": "vJKv87sl_RL5",
        "colab_type": "code",
        "colab": {}
      },
      "source": [
        "# Load the required packages\n",
        "import pandas as pd\n",
        "import numpy as np\n",
        "import io\n",
        "import copy\n",
        "import seaborn as sns\n",
        "import matplotlib.pyplot as plt\n",
        "from math import sqrt\n",
        "from collections import deque\n",
        "\n",
        "import sklearn.metrics as metrics\n",
        "from sklearn.model_selection import train_test_split\n",
        "from sklearn.metrics import mean_squared_error, mean_absolute_error\n",
        "from sklearn.metrics.pairwise import euclidean_distances\n",
        "from sklearn.neighbors import NearestNeighbors\n",
        "from sklearn.cluster import KMeans\n",
        "from sklearn_extra.cluster import KMedoids\n",
        "\n",
        "from scipy.sparse import csr_matrix\n",
        "from pandas.api.types import CategoricalDtype\n",
        "\n",
        "import warnings\n",
        "warnings.filterwarnings(\"ignore\")"
      ],
      "execution_count": 0,
      "outputs": []
    },
    {
      "cell_type": "code",
      "metadata": {
        "id": "DFfGgnbt_WK7",
        "colab_type": "code",
        "outputId": "a8491367-5adb-4dae-a4fc-2f01d4b277bc",
        "colab": {
          "base_uri": "https://localhost:8080/",
          "height": 34
        }
      },
      "source": [
        "# Mount the drive\n",
        "from google.colab import drive\n",
        "drive.mount('/content/drive')"
      ],
      "execution_count": 2,
      "outputs": [
        {
          "output_type": "stream",
          "text": [
            "Drive already mounted at /content/drive; to attempt to forcibly remount, call drive.mount(\"/content/drive\", force_remount=True).\n"
          ],
          "name": "stdout"
        }
      ]
    },
    {
      "cell_type": "code",
      "metadata": {
        "id": "2Up1IcTZ_amK",
        "colab_type": "code",
        "colab": {}
      },
      "source": [
        "# Load the movie titles\n",
        "movie_titles = pd.read_csv('drive/My Drive/Thesis/movie_titles.csv', \n",
        "                           encoding = 'ISO-8859-1', \n",
        "                           header = None, \n",
        "                           names = ['item_id', 'year', 'name'])\n",
        "movie_titles['year']=movie_titles['year'].fillna(0).astype('int32')"
      ],
      "execution_count": 0,
      "outputs": []
    },
    {
      "cell_type": "code",
      "metadata": {
        "id": "Io93ymRBVJQK",
        "colab_type": "code",
        "outputId": "183ca30d-b49c-455d-b3ed-fd180112ae73",
        "colab": {
          "base_uri": "https://localhost:8080/",
          "height": 402
        }
      },
      "source": [
        "movie_titles"
      ],
      "execution_count": 4,
      "outputs": [
        {
          "output_type": "execute_result",
          "data": {
            "text/html": [
              "<div>\n",
              "<style scoped>\n",
              "    .dataframe tbody tr th:only-of-type {\n",
              "        vertical-align: middle;\n",
              "    }\n",
              "\n",
              "    .dataframe tbody tr th {\n",
              "        vertical-align: top;\n",
              "    }\n",
              "\n",
              "    .dataframe thead th {\n",
              "        text-align: right;\n",
              "    }\n",
              "</style>\n",
              "<table border=\"1\" class=\"dataframe\">\n",
              "  <thead>\n",
              "    <tr style=\"text-align: right;\">\n",
              "      <th></th>\n",
              "      <th>item_id</th>\n",
              "      <th>year</th>\n",
              "      <th>name</th>\n",
              "    </tr>\n",
              "  </thead>\n",
              "  <tbody>\n",
              "    <tr>\n",
              "      <th>0</th>\n",
              "      <td>1</td>\n",
              "      <td>2003</td>\n",
              "      <td>Dinosaur Planet</td>\n",
              "    </tr>\n",
              "    <tr>\n",
              "      <th>1</th>\n",
              "      <td>2</td>\n",
              "      <td>2004</td>\n",
              "      <td>Isle of Man TT 2004 Review</td>\n",
              "    </tr>\n",
              "    <tr>\n",
              "      <th>2</th>\n",
              "      <td>3</td>\n",
              "      <td>1997</td>\n",
              "      <td>Character</td>\n",
              "    </tr>\n",
              "    <tr>\n",
              "      <th>3</th>\n",
              "      <td>4</td>\n",
              "      <td>1994</td>\n",
              "      <td>Paula Abdul's Get Up &amp; Dance</td>\n",
              "    </tr>\n",
              "    <tr>\n",
              "      <th>4</th>\n",
              "      <td>5</td>\n",
              "      <td>2004</td>\n",
              "      <td>The Rise and Fall of ECW</td>\n",
              "    </tr>\n",
              "    <tr>\n",
              "      <th>...</th>\n",
              "      <td>...</td>\n",
              "      <td>...</td>\n",
              "      <td>...</td>\n",
              "    </tr>\n",
              "    <tr>\n",
              "      <th>17765</th>\n",
              "      <td>17766</td>\n",
              "      <td>2002</td>\n",
              "      <td>Where the Wild Things Are and Other Maurice Se...</td>\n",
              "    </tr>\n",
              "    <tr>\n",
              "      <th>17766</th>\n",
              "      <td>17767</td>\n",
              "      <td>2004</td>\n",
              "      <td>Fidel Castro: American Experience</td>\n",
              "    </tr>\n",
              "    <tr>\n",
              "      <th>17767</th>\n",
              "      <td>17768</td>\n",
              "      <td>2000</td>\n",
              "      <td>Epoch</td>\n",
              "    </tr>\n",
              "    <tr>\n",
              "      <th>17768</th>\n",
              "      <td>17769</td>\n",
              "      <td>2003</td>\n",
              "      <td>The Company</td>\n",
              "    </tr>\n",
              "    <tr>\n",
              "      <th>17769</th>\n",
              "      <td>17770</td>\n",
              "      <td>2003</td>\n",
              "      <td>Alien Hunter</td>\n",
              "    </tr>\n",
              "  </tbody>\n",
              "</table>\n",
              "<p>17770 rows × 3 columns</p>\n",
              "</div>"
            ],
            "text/plain": [
              "       item_id  year                                               name\n",
              "0            1  2003                                    Dinosaur Planet\n",
              "1            2  2004                         Isle of Man TT 2004 Review\n",
              "2            3  1997                                          Character\n",
              "3            4  1994                       Paula Abdul's Get Up & Dance\n",
              "4            5  2004                           The Rise and Fall of ECW\n",
              "...        ...   ...                                                ...\n",
              "17765    17766  2002  Where the Wild Things Are and Other Maurice Se...\n",
              "17766    17767  2004                  Fidel Castro: American Experience\n",
              "17767    17768  2000                                              Epoch\n",
              "17768    17769  2003                                        The Company\n",
              "17769    17770  2003                                       Alien Hunter\n",
              "\n",
              "[17770 rows x 3 columns]"
            ]
          },
          "metadata": {
            "tags": []
          },
          "execution_count": 4
        }
      ]
    },
    {
      "cell_type": "code",
      "metadata": {
        "id": "0hLEn2ti_lPy",
        "colab_type": "code",
        "outputId": "8a7aa33f-a7a9-4e49-ceb3-ad091a92818b",
        "colab": {
          "base_uri": "https://localhost:8080/",
          "height": 151
        }
      },
      "source": [
        "# Path of all files\n",
        "files = [\n",
        "    'drive/My Drive/Thesis/combined_data_1.txt',\n",
        "    'drive/My Drive/Thesis/combined_data_2.txt',\n",
        "    'drive/My Drive/Thesis/combined_data_3.txt',\n",
        "    'drive/My Drive/Thesis/combined_data_4.txt']\n",
        "\n",
        "df=pd.DataFrame()\n",
        "for file in files:\n",
        "  # Load single data-file\n",
        "  df_raw = pd.read_csv(file, header=None, names=['user_id', 'rating'], usecols=[0, 1])\n",
        "\n",
        "  # Find empty rows to slice dataframe for each movie\n",
        "  tmp_movies = df_raw[df_raw['rating'].isna()]['user_id'].reset_index()\n",
        "  movie_indices = [[index, int(movie[:-1])] for index, movie in tmp_movies.values]\n",
        "\n",
        "  # Shift the movie_indices by one to get start and endpoints of all movies\n",
        "  shifted_movie_indices = deque(movie_indices)\n",
        "  shifted_movie_indices.rotate(-1)\n",
        "\n",
        "  #Gather all dataframes\n",
        "  user_data = []\n",
        "\n",
        "  # Iterate over all movies\n",
        "  for [df_id_1, movie_id], [df_id_2, next_movie_id] in zip(movie_indices, shifted_movie_indices):\n",
        "\n",
        "      # Check if it is the last movie in the file\n",
        "      if df_id_1<df_id_2:\n",
        "          tmp_df = df_raw.loc[df_id_1+1:df_id_2-1].copy()\n",
        "      else:\n",
        "          tmp_df = df_raw.loc[df_id_1+1:].copy()\n",
        "          \n",
        "      # Create item_id column\n",
        "      tmp_df['item_id'] = movie_id \n",
        "      \n",
        "      # Append dataframe to list\n",
        "      user_data.append(tmp_df)\n",
        "\n",
        "  # Combine all dataframes\n",
        "  df_new = pd.concat(user_data)\n",
        "  df=df.append(df_new)\n",
        "  print(\"{0} loaded\".format(file))\n",
        "  print('Shape of Ratings:\\t{}'.format(df.shape))"
      ],
      "execution_count": 5,
      "outputs": [
        {
          "output_type": "stream",
          "text": [
            "drive/My Drive/Thesis/combined_data_1.txt loaded\n",
            "Shape of Ratings:\t(24053764, 3)\n",
            "drive/My Drive/Thesis/combined_data_2.txt loaded\n",
            "Shape of Ratings:\t(51031355, 3)\n",
            "drive/My Drive/Thesis/combined_data_3.txt loaded\n",
            "Shape of Ratings:\t(73632984, 3)\n",
            "drive/My Drive/Thesis/combined_data_4.txt loaded\n",
            "Shape of Ratings:\t(100480507, 3)\n"
          ],
          "name": "stdout"
        }
      ]
    },
    {
      "cell_type": "code",
      "metadata": {
        "id": "p0-qTLPZ_qxM",
        "colab_type": "code",
        "outputId": "23867233-ce86-41df-f020-1f3e3804680e",
        "colab": {
          "base_uri": "https://localhost:8080/",
          "height": 202
        }
      },
      "source": [
        "# Resizing the dataframe objects\n",
        "df[\"user_id\"] = pd.to_numeric(df[\"user_id\"]).astype('int32')\n",
        "df[\"item_id\"] = df[\"item_id\"].astype('int16')\n",
        "df[\"rating\"] = df[\"rating\"].astype('int16')\n",
        "print(df.info())"
      ],
      "execution_count": 6,
      "outputs": [
        {
          "output_type": "stream",
          "text": [
            "<class 'pandas.core.frame.DataFrame'>\n",
            "Int64Index: 100480507 entries, 1 to 26851925\n",
            "Data columns (total 3 columns):\n",
            " #   Column   Dtype\n",
            "---  ------   -----\n",
            " 0   user_id  int32\n",
            " 1   rating   int16\n",
            " 2   item_id  int16\n",
            "dtypes: int16(2), int32(1)\n",
            "memory usage: 1.5 GB\n",
            "None\n"
          ],
          "name": "stdout"
        }
      ]
    },
    {
      "cell_type": "code",
      "metadata": {
        "id": "boqTeU9tVDyO",
        "colab_type": "code",
        "outputId": "c85f45c2-9d7e-4857-e48a-0e0b72ad3954",
        "colab": {
          "base_uri": "https://localhost:8080/",
          "height": 402
        }
      },
      "source": [
        "df"
      ],
      "execution_count": 7,
      "outputs": [
        {
          "output_type": "execute_result",
          "data": {
            "text/html": [
              "<div>\n",
              "<style scoped>\n",
              "    .dataframe tbody tr th:only-of-type {\n",
              "        vertical-align: middle;\n",
              "    }\n",
              "\n",
              "    .dataframe tbody tr th {\n",
              "        vertical-align: top;\n",
              "    }\n",
              "\n",
              "    .dataframe thead th {\n",
              "        text-align: right;\n",
              "    }\n",
              "</style>\n",
              "<table border=\"1\" class=\"dataframe\">\n",
              "  <thead>\n",
              "    <tr style=\"text-align: right;\">\n",
              "      <th></th>\n",
              "      <th>user_id</th>\n",
              "      <th>rating</th>\n",
              "      <th>item_id</th>\n",
              "    </tr>\n",
              "  </thead>\n",
              "  <tbody>\n",
              "    <tr>\n",
              "      <th>1</th>\n",
              "      <td>1488844</td>\n",
              "      <td>3</td>\n",
              "      <td>1</td>\n",
              "    </tr>\n",
              "    <tr>\n",
              "      <th>2</th>\n",
              "      <td>822109</td>\n",
              "      <td>5</td>\n",
              "      <td>1</td>\n",
              "    </tr>\n",
              "    <tr>\n",
              "      <th>3</th>\n",
              "      <td>885013</td>\n",
              "      <td>4</td>\n",
              "      <td>1</td>\n",
              "    </tr>\n",
              "    <tr>\n",
              "      <th>4</th>\n",
              "      <td>30878</td>\n",
              "      <td>4</td>\n",
              "      <td>1</td>\n",
              "    </tr>\n",
              "    <tr>\n",
              "      <th>5</th>\n",
              "      <td>823519</td>\n",
              "      <td>3</td>\n",
              "      <td>1</td>\n",
              "    </tr>\n",
              "    <tr>\n",
              "      <th>...</th>\n",
              "      <td>...</td>\n",
              "      <td>...</td>\n",
              "      <td>...</td>\n",
              "    </tr>\n",
              "    <tr>\n",
              "      <th>26851921</th>\n",
              "      <td>1790158</td>\n",
              "      <td>4</td>\n",
              "      <td>17770</td>\n",
              "    </tr>\n",
              "    <tr>\n",
              "      <th>26851922</th>\n",
              "      <td>1608708</td>\n",
              "      <td>3</td>\n",
              "      <td>17770</td>\n",
              "    </tr>\n",
              "    <tr>\n",
              "      <th>26851923</th>\n",
              "      <td>234275</td>\n",
              "      <td>1</td>\n",
              "      <td>17770</td>\n",
              "    </tr>\n",
              "    <tr>\n",
              "      <th>26851924</th>\n",
              "      <td>255278</td>\n",
              "      <td>4</td>\n",
              "      <td>17770</td>\n",
              "    </tr>\n",
              "    <tr>\n",
              "      <th>26851925</th>\n",
              "      <td>453585</td>\n",
              "      <td>2</td>\n",
              "      <td>17770</td>\n",
              "    </tr>\n",
              "  </tbody>\n",
              "</table>\n",
              "<p>100480507 rows × 3 columns</p>\n",
              "</div>"
            ],
            "text/plain": [
              "          user_id  rating  item_id\n",
              "1         1488844       3        1\n",
              "2          822109       5        1\n",
              "3          885013       4        1\n",
              "4           30878       4        1\n",
              "5          823519       3        1\n",
              "...           ...     ...      ...\n",
              "26851921  1790158       4    17770\n",
              "26851922  1608708       3    17770\n",
              "26851923   234275       1    17770\n",
              "26851924   255278       4    17770\n",
              "26851925   453585       2    17770\n",
              "\n",
              "[100480507 rows x 3 columns]"
            ]
          },
          "metadata": {
            "tags": []
          },
          "execution_count": 7
        }
      ]
    },
    {
      "cell_type": "code",
      "metadata": {
        "id": "aRyurWFAWxcj",
        "colab_type": "code",
        "outputId": "11f018e0-609b-4ebb-da21-045a760b4a8b",
        "colab": {
          "base_uri": "https://localhost:8080/",
          "height": 345
        }
      },
      "source": [
        "# Frequency of each ratings value in the complete Netﬂix Ratings dataset\n",
        "fig1, ax1 = plt.subplots(figsize=(8,5))\n",
        "sns.countplot(df['rating'], ax=ax1)\n",
        "plt.xlabel('Rating')\n",
        "plt.ylabel('Count(millions)')\n",
        "plt.savefig('drive/My Drive/Thesis/Ratings.png')\n",
        "plt.show()"
      ],
      "execution_count": 8,
      "outputs": [
        {
          "output_type": "display_data",
          "data": {
            "image/png": "[encoded data removed]",
            "text/plain": [
              "<Figure size 576x360 with 1 Axes>"
            ]
          },
          "metadata": {
            "tags": [],
            "needs_background": "light"
          }
        }
      ]
    },
    {
      "cell_type": "code",
      "metadata": {
        "id": "REV9XkdCco9q",
        "colab_type": "code",
        "colab": {}
      },
      "source": [
        "# Extract top 200 users and top 500 items separately\n",
        "topitems = pd.DataFrame(df['item_id'].value_counts())#.sort_index())\n",
        "topitems=topitems.head(500)\n",
        "topusers =pd.DataFrame(df['user_id'].value_counts())\n",
        "topusers=topusers.head(200)"
      ],
      "execution_count": 0,
      "outputs": []
    },
    {
      "cell_type": "code",
      "metadata": {
        "id": "jgU_mvFW0HdD",
        "colab_type": "code",
        "colab": {}
      },
      "source": [
        "# Filter the Dataframe to keep the top users and items\n",
        "df=df[df['item_id'].isin(list(topitems.index.values)) & df['user_id'].isin(list(topusers.index.values))].reset_index()\n",
        "df=df.drop('index', axis=1)"
      ],
      "execution_count": 0,
      "outputs": []
    },
    {
      "cell_type": "code",
      "metadata": {
        "id": "zcE3Ln-irm6z",
        "colab_type": "code",
        "colab": {
          "base_uri": "https://localhost:8080/",
          "height": 334
        },
        "outputId": "fb000c14-0857-4055-b315-28120a527a6f"
      },
      "source": [
        "# Frequency of each ratings value in the pre-processed Netﬂix Ratings dataset\n",
        "fig2, ax2 = plt.subplots(figsize=(8,5))\n",
        "sns.countplot(df['rating'], ax=ax2)\n",
        "plt.xlabel('Rating')\n",
        "plt.ylabel('Count')\n",
        "plt.savefig('drive/My Drive/Thesis/Ratings2.png')\n",
        "plt.show()"
      ],
      "execution_count": 11,
      "outputs": [
        {
          "output_type": "display_data",
          "data": {
            "image/png": "[encoded data removed]",
            "text/plain": [
              "<Figure size 576x360 with 1 Axes>"
            ]
          },
          "metadata": {
            "tags": [],
            "needs_background": "light"
          }
        }
      ]
    },
    {
      "cell_type": "code",
      "metadata": {
        "id": "kgyEgeFvtN1z",
        "colab_type": "code",
        "outputId": "233ffeda-b1cc-476e-bd4c-d0c4fb1a5a85",
        "colab": {
          "base_uri": "https://localhost:8080/",
          "height": 265
        }
      },
      "source": [
        "# Average rating per movie\n",
        "df[['item_id','rating']].groupby('item_id').mean().plot(kind='box')\n",
        "plt.savefig('drive/My Drive/Thesis/Average.png')\n",
        "plt.show()"
      ],
      "execution_count": 12,
      "outputs": [
        {
          "output_type": "display_data",
          "data": {
            "image/png": "[encoded data removed]",
            "text/plain": [
              "<Figure size 432x288 with 1 Axes>"
            ]
          },
          "metadata": {
            "tags": [],
            "needs_background": "light"
          }
        }
      ]
    },
    {
      "cell_type": "code",
      "metadata": {
        "id": "AW0XLE7GEYj4",
        "colab_type": "code",
        "colab": {}
      },
      "source": [
        "# Convert the dataframe into a sparse matrix\n",
        "item_c = CategoricalDtype(sorted(df.item_id.unique()), ordered=True)\n",
        "user_c = CategoricalDtype(sorted(df.user_id.unique()), ordered=True)\n",
        "\n",
        "row = df.item_id.astype(item_c).cat.codes\n",
        "col = df.user_id.astype(user_c).cat.codes\n",
        "sparse_matrix = csr_matrix((df[\"rating\"], (row, col)), \\\n",
        "                           shape=(item_c.categories.size, user_c.categories.size),dtype='int16')"
      ],
      "execution_count": 0,
      "outputs": []
    },
    {
      "cell_type": "code",
      "metadata": {
        "id": "7mV5q80qEelz",
        "colab_type": "code",
        "outputId": "00122c1f-911b-422d-f81d-b617dc0d6c27",
        "colab": {
          "base_uri": "https://localhost:8080/",
          "height": 34
        }
      },
      "source": [
        "# Convert the sparse matrix into a movie-user matrix\n",
        "ratings=sparse_matrix.todense()\n",
        "ratings=pd.DataFrame(ratings)\n",
        "ratings.shape"
      ],
      "execution_count": 14,
      "outputs": [
        {
          "output_type": "execute_result",
          "data": {
            "text/plain": [
              "(500, 200)"
            ]
          },
          "metadata": {
            "tags": []
          },
          "execution_count": 14
        }
      ]
    },
    {
      "cell_type": "code",
      "metadata": {
        "id": "EbCP3Eg02kea",
        "colab_type": "code",
        "colab": {}
      },
      "source": [
        "# Train and Test Splitting\n",
        "def split(ratings):\n",
        "    train_ratings, test_ratings = train_test_split(ratings.T, test_size=0.2, random_state=1440)\n",
        "    train_ratings=train_ratings.reset_index().drop(['index'], 1)\n",
        "    test_ratings=test_ratings.reset_index().drop(['index'], 1)\n",
        "    return train_ratings,test_ratings"
      ],
      "execution_count": 0,
      "outputs": []
    },
    {
      "cell_type": "code",
      "metadata": {
        "id": "gddl4UTHorqL",
        "colab_type": "code",
        "colab": {}
      },
      "source": [
        "# Elbow Method for the Best K value for CLustering\n",
        "def elbowmethod(train_ratings):\n",
        "    train_ratings=train_ratings.T\n",
        "    train_ratings['average'] = train_ratings.mean(axis=1)\n",
        "    distortions=[]\n",
        "    K=range(1,25) \n",
        "    for k in K:\n",
        "      kmeanModel = KMeans(n_clusters=k, random_state=0,init='k-means++')\n",
        "      kmeanModel.fit(train_ratings[['average']])\n",
        "      distortions.append(kmeanModel.inertia_)\n",
        "    plt.figure(figsize=(8,5))\n",
        "    plt.plot(K, distortions, marker='o')\n",
        "    plt.xlabel('K values')\n",
        "    plt.ylabel('Distortion/Inertia')\n",
        "    plt.savefig('drive/My Drive/Thesis/elbowoptimalK.png')\n",
        "    plt.show()"
      ],
      "execution_count": 0,
      "outputs": []
    },
    {
      "cell_type": "code",
      "metadata": {
        "id": "qv2IaYDj23ey",
        "colab_type": "code",
        "colab": {}
      },
      "source": [
        "# K-means Clustering function\n",
        "def kmeans(train_ratings,test_ratings, K):\n",
        "    train_ratings=train_ratings.T\n",
        "    test_ratings=test_ratings.T\n",
        "    train_ratings['average'] = train_ratings.mean(axis=1)\n",
        "    test_ratings['average'] = test_ratings.mean(axis=1)\n",
        "    kmeanModel = KMeans(n_clusters= K, random_state=0, init='k-means++')\n",
        "    kmeanModel.fit(train_ratings[['average']])\n",
        "    labels=kmeanModel.predict(test_ratings[['average']])\n",
        "    test_ratings=test_ratings.drop(['average'], 1)\n",
        "    test_clusters=copy.copy(test_ratings)\n",
        "    test_clusters['Cluster']=labels\n",
        "    return test_clusters,test_ratings"
      ],
      "execution_count": 0,
      "outputs": []
    },
    {
      "cell_type": "code",
      "metadata": {
        "id": "DUl1bAdm3hP4",
        "colab_type": "code",
        "colab": {}
      },
      "source": [
        "# K-medoids Clustering function\n",
        "def kmedoids(train_ratings,test_ratings, K):\n",
        "    train_ratings=train_ratings.T\n",
        "    test_ratings=test_ratings.T\n",
        "    train_ratings['average'] = train_ratings.mean(axis=1)\n",
        "    test_ratings['average'] = test_ratings.mean(axis=1)\n",
        "    kmedoidsModel = KMedoids(n_clusters= K, random_state=0, init='k-medoids++')\n",
        "    kmedoidsModel.fit(train_ratings[['average']])\n",
        "    labels=kmedoidsModel.predict(test_ratings[['average']])\n",
        "    test_ratings=test_ratings.drop(['average'], 1)\n",
        "    test_clusters=copy.copy(test_ratings)\n",
        "    test_clusters['Cluster']=labels\n",
        "    return test_clusters,test_ratings"
      ],
      "execution_count": 0,
      "outputs": []
    },
    {
      "cell_type": "code",
      "metadata": {
        "id": "cw45_wmi4kTn",
        "colab_type": "code",
        "colab": {}
      },
      "source": [
        "# K-means Split-Merge Clustering F=function\n",
        "def kmeans_split_merge(train_ratings,test_ratings,K):\n",
        "    train_ratings=train_ratings.T\n",
        "    test_ratings=test_ratings.T\n",
        "    train_ratings['average'] = train_ratings.mean(axis=1)\n",
        "    test_ratings['average'] = test_ratings.mean(axis=1)\n",
        "    kmeanModel1 = KMeans(n_clusters=K, random_state=0)\n",
        "    kmeanModel1.fit(train_ratings[['average']])\n",
        "    centroids=kmeanModel1.cluster_centers_\n",
        "    labels=kmeanModel1.labels_\n",
        "    clusters=np.unique(labels)\n",
        "\n",
        "    # Keep only centroids of clusters with data points-delete empty clusters\n",
        "    new_centroids=[]\n",
        "    for i in range(0,len(centroids)):\n",
        "      if i in clusters:\n",
        "        new_centroids=np.append(new_centroids,centroids[i])\n",
        "    new_centroids=new_centroids.reshape(len(new_centroids), -1)\n",
        "    \n",
        "    # Get distances between cluster center and point\n",
        "    X_dist = kmeanModel1.transform(train_ratings[['average']])\n",
        "    df = pd.DataFrame(X_dist.min(axis=1).round(2), columns=['sqdist'])\n",
        "    df['label'] = labels\n",
        "    \n",
        "    # Get std deviation of each cluster\n",
        "    def k_std(data, cx, i_centroid):\n",
        "      sum=0\n",
        "      counter=0\n",
        "      for i in range(0,len(data)):\n",
        "        if data.iloc[i]['label']==i_centroid:\n",
        "          sum=sum+(data.iloc[i]['sqdist'])**2\n",
        "          counter+=1\n",
        "      mean=sum/counter\n",
        "      return sqrt(mean)\n",
        "\n",
        "    total_dist = []\n",
        "    for i, cx in enumerate(new_centroids):\n",
        "      std_distance = k_std(df, cx[0], i)\n",
        "      total_dist=np.append(total_dist,std_distance)\n",
        "  \n",
        " \n",
        "    # Code for splitting clusters\n",
        "    outlierpresent=True\n",
        "    ratings=train_ratings\n",
        "    kmeanModel2 = KMeans(n_clusters=len(new_centroids), random_state=0, init=new_centroids)\n",
        "    kmeanModel2.fit(ratings[['average']])\n",
        "    while outlierpresent:\n",
        "      for i in range(0,train_ratings.shape[0]):\n",
        "        label= df.iloc[i]['label'].astype('int16')\n",
        "        new=new_centroids\n",
        "        if df.iloc[i]['sqdist'] > (5*total_dist[label]):\n",
        "          outlier= ratings.iloc[i]['average']\n",
        "          new=np.append(new,outlier)\n",
        "          new=new.reshape(len(new), -1)\n",
        "          kmeanModel2 = KMeans(n_clusters=len(new), random_state=0, init=new)\n",
        "          kmeanModel2.fit(ratings[['average']])\n",
        "          centroids=kmeanModel2.cluster_centers_\n",
        "          labels=kmeanModel2.labels_\n",
        "          clusters=np.unique(labels)\n",
        "          \n",
        "          # Keep only centroids of clusters with data points-delete empty clusters\n",
        "          new_centroids=[]\n",
        "          for i in range(0,len(centroids)):\n",
        "            if i in clusters:\n",
        "              new_centroids=np.append(new_centroids,centroids[i])\n",
        "          new_centroids=new_centroids.reshape(len(new_centroids), -1)\n",
        "        else:\n",
        "          outlierpresent=False\n",
        "    dists = euclidean_distances(new_centroids)\n",
        "    \n",
        "    # Code for merging clusters\n",
        "    # Get distances between cluster center and point\n",
        "    X_dist = kmeanModel2.transform(ratings[['average']])\n",
        "    l=kmeanModel2.labels_\n",
        "    df = pd.DataFrame(X_dist.min(axis=1).round(2), columns=['sqdist'])\n",
        "    df['label'] = l\n",
        "    \n",
        "    kmeanModel3 = KMeans(n_clusters=len(new_centroids), random_state=0, init=new_centroids)\n",
        "    kmeanModel3.fit(ratings[['average']])\n",
        "    merged=True\n",
        "    while merged:\n",
        "      total_dist = []\n",
        "      for i, cx in enumerate(new_centroids):\n",
        "        std_distance = k_std(df, cx[0], i)\n",
        "        total_dist=np.append(total_dist,std_distance)\n",
        "      dists = euclidean_distances(new_centroids)\n",
        "      for i in (0,len(new_centroids)-1):\n",
        "          for j in range(1,len(new_centroids)):\n",
        "            if dists[i][j] < (1.414*(dists[i][j]-(total_dist[i]+total_dist[j]))):\n",
        "              merged=True\n",
        "              new=new_centroids\n",
        "              merged_centroid=(new_centroids[i]+new_centroids[j])/2      \n",
        "              new =np.delete(new, [i,j])\n",
        "              new=np.append(new,merged_centroid)\n",
        "              new=new.reshape(len(new), -1)\n",
        "              kmeanModel3 = KMeans(n_clusters=len(new), random_state=0, init=new)\n",
        "              kmeanModel3.fit(ratings[['average']])\n",
        "              X_dist = kmeanModel3.transform(ratings[['average']])\n",
        "              l=kmeanModel3.labels_\n",
        "              df = pd.DataFrame(X_dist.min(axis=1).round(2), columns=['sqdist'])\n",
        "              df['label'] = l\n",
        "              new_centroids=kmeanModel3.cluster_centers_\n",
        "              break\n",
        "            else:\n",
        "              merged=False\n",
        "          break \n",
        "    print(\"Initial Number of Clusters of K-means Split-Merge:{0}\".format(K))\n",
        "    print(\"Final Number of Clusters of K-means Split-Merge:{0}\".format(len(kmeanModel3.cluster_centers_)))\n",
        "    final_clus=len(kmeanModel3.cluster_centers_)\n",
        "    labels=kmeanModel3.predict(test_ratings[['average']]) \n",
        "    test_ratings=test_ratings.drop(['average'], 1)\n",
        "    test_clusters=copy.copy(test_ratings)\n",
        "    test_clusters['Cluster']=labels\n",
        "    return test_clusters,test_ratings,final_clus"
      ],
      "execution_count": 0,
      "outputs": []
    },
    {
      "cell_type": "code",
      "metadata": {
        "id": "-LGIneKmwOs5",
        "colab_type": "code",
        "colab": {}
      },
      "source": [
        "# Applying the KNN algorithm to get the nearest neighbors\n",
        "def predict_itembased(user_id, item_id, ratings, model, col, k):\n",
        "    prediction= 0\n",
        "    wtd_sum =0\n",
        "    similarities=[]\n",
        "    similarities=np.array(similarities)\n",
        "    indices=[]  \n",
        "    new_distances=[]\n",
        "    new_distances=np.array(new_distances)\n",
        "    new_indices=[]\n",
        "    distances, indices = model.kneighbors(ratings.iloc[item_id-1, :].values.reshape(1, -1), n_neighbors = ratings.shape[0])\n",
        "    for i in range(0,len(indices[0])):\n",
        "      if len(new_indices) < k :\n",
        "        if indices[0][i] in col:\n",
        "          new_indices.append(indices[0][i])\n",
        "          new_distances=np.append(new_distances,distances[0][i])\n",
        "      else :\n",
        "        break\n",
        "    similarities = 1-new_distances\n",
        "    sum_wt = np.sum(similarities)-1\n",
        "    product=1\n",
        "    ratings=ratings.T\n",
        "    for i in range(0, len(new_indices)):\n",
        "        if new_indices[i]+1 == item_id:\n",
        "            continue;\n",
        "        else:\n",
        "            product = ratings.iloc[user_id-1,new_indices[i]] * (similarities[i])\n",
        "            wtd_sum = wtd_sum + product                              \n",
        "    if sum_wt == 0:\n",
        "      prediction=0\n",
        "    else: \n",
        "      prediction = int(round(wtd_sum/sum_wt))  \n",
        "    return prediction"
      ],
      "execution_count": 0,
      "outputs": []
    },
    {
      "cell_type": "code",
      "metadata": {
        "id": "zMwQBjw9xn2E",
        "colab_type": "code",
        "colab": {}
      },
      "source": [
        "# Prediction and Evaluation of the Recommender system\n",
        "def evaluateRS(test_clusters,test_ratings,KNN=5):\n",
        "    n_users_test = test_ratings.shape[1]\n",
        "    n_items_test = test_ratings.shape[0]\n",
        "    scale=5\n",
        "    model_knn = NearestNeighbors(metric = 'cosine', algorithm = 'brute')\n",
        "    model_knn.fit(test_ratings)\n",
        "    prediction = np.zeros((n_users_test, n_items_test))\n",
        "    prediction= pd.DataFrame(prediction)\n",
        "    for i in range(n_users_test):\n",
        "      for j in range(n_items_test):\n",
        "        cluster=test_clusters.at[j,'Cluster']  \n",
        "        new = test_clusters.index[test_clusters.Cluster == cluster]\n",
        "        col=new.values.tolist()\n",
        "        prediction[i][j] = predict_itembased(i+1, j+1, test_ratings, model_knn, col,KNN)\n",
        "      #print(\"user {0} is done\".format(i+1))\n",
        "    MSE = mean_squared_error(prediction, test_ratings.T)\n",
        "    MAE= round(mean_absolute_error(prediction, test_ratings.T)/scale,5)\n",
        "    RMSE = round(sqrt(MSE)/scale,5)\n",
        "    print(\"RMSE:\",RMSE)\n",
        "    print(\"MAE:\",MAE)\n",
        "    return RMSE, MAE"
      ],
      "execution_count": 0,
      "outputs": []
    },
    {
      "cell_type": "code",
      "metadata": {
        "id": "FT8LbhWW5Ybd",
        "colab_type": "code",
        "outputId": "6be24439-5459-4250-e720-83d307ebcd65",
        "colab": {
          "base_uri": "https://localhost:8080/",
          "height": 334
        }
      },
      "source": [
        "# Splitting the user-item matrix into the train and test\n",
        "train, test = split(ratings)\n",
        "\n",
        "# Elbow method to find the minimum optimal K value for K-means Clustering\n",
        "elbowmethod(train)"
      ],
      "execution_count": 22,
      "outputs": [
        {
          "output_type": "display_data",
          "data": {
            "image/png": "[encoded data removed]",
            "text/plain": [
              "<Figure size 576x360 with 1 Axes>"
            ]
          },
          "metadata": {
            "tags": [],
            "needs_background": "light"
          }
        }
      ]
    },
    {
      "cell_type": "code",
      "metadata": {
        "id": "WztIfuPDydkK",
        "colab_type": "code",
        "colab": {}
      },
      "source": [
        "#Specify the values of K for Clustering\n",
        "K_values=[2,3,5,10,15,25,50,75,100]"
      ],
      "execution_count": 0,
      "outputs": []
    },
    {
      "cell_type": "code",
      "metadata": {
        "id": "Krjrs8z-86Ds",
        "colab_type": "code",
        "outputId": "bed75aa3-a8bf-4253-e68d-a491de572f37",
        "colab": {
          "base_uri": "https://localhost:8080/",
          "height": 823
        }
      },
      "source": [
        "# Executing the Split-Merge K-means for KNN with 5 nearest neighbors\n",
        "all_final_clus_count=[]\n",
        "all_rmse_splitmergekmeans=[]\n",
        "all_mae_splitmergekmeans=[]\n",
        "for K in K_values:\n",
        "  clusters_splitmergekmeans, test_splitmergekmeans, final_clus_count = kmeans_split_merge(train, test, K)\n",
        "  print(\"The RMSE and MAE for K-Means Split-Merge based CF-I with K={0}:\".format(K))\n",
        "  rmse_splitmergekmeans, mae_splitmergekmeans= evaluateRS(clusters_splitmergekmeans, test_splitmergekmeans)\n",
        "\n",
        "  all_final_clus_count.append(final_clus_count)\n",
        "  all_rmse_splitmergekmeans.append(rmse_splitmergekmeans)\n",
        "  all_mae_splitmergekmeans.append(mae_splitmergekmeans)\n",
        "\n",
        "print(all_final_clus_count)\n",
        "print(all_rmse_splitmergekmeans)\n",
        "print(all_mae_splitmergekmeans)\n"
      ],
      "execution_count": 24,
      "outputs": [
        {
          "output_type": "stream",
          "text": [
            "Initial Number of Clusters of K-means Split-Merge:2\n",
            "Final Number of Clusters of K-means Split-Merge:2\n",
            "The RMSE and MAE for K-Means Split-Merge based CF-I with K=2:\n",
            "RMSE: 0.6561\n",
            "MAE: 0.56922\n",
            "Initial Number of Clusters of K-means Split-Merge:3\n",
            "Final Number of Clusters of K-means Split-Merge:3\n",
            "The RMSE and MAE for K-Means Split-Merge based CF-I with K=3:\n",
            "RMSE: 0.65574\n",
            "MAE: 0.56884\n",
            "Initial Number of Clusters of K-means Split-Merge:5\n",
            "Final Number of Clusters of K-means Split-Merge:5\n",
            "The RMSE and MAE for K-Means Split-Merge based CF-I with K=5:\n",
            "RMSE: 0.65578\n",
            "MAE: 0.56899\n",
            "Initial Number of Clusters of K-means Split-Merge:10\n",
            "Final Number of Clusters of K-means Split-Merge:3\n",
            "The RMSE and MAE for K-Means Split-Merge based CF-I with K=10:\n",
            "RMSE: 0.65575\n",
            "MAE: 0.5688\n",
            "Initial Number of Clusters of K-means Split-Merge:15\n",
            "Final Number of Clusters of K-means Split-Merge:3\n",
            "The RMSE and MAE for K-Means Split-Merge based CF-I with K=15:\n",
            "RMSE: 0.65575\n",
            "MAE: 0.5688\n",
            "Initial Number of Clusters of K-means Split-Merge:25\n",
            "Final Number of Clusters of K-means Split-Merge:3\n",
            "The RMSE and MAE for K-Means Split-Merge based CF-I with K=25:\n",
            "RMSE: 0.65575\n",
            "MAE: 0.5688\n",
            "Initial Number of Clusters of K-means Split-Merge:50\n",
            "Final Number of Clusters of K-means Split-Merge:4\n",
            "The RMSE and MAE for K-Means Split-Merge based CF-I with K=50:\n",
            "RMSE: 0.65596\n",
            "MAE: 0.56929\n",
            "Initial Number of Clusters of K-means Split-Merge:75\n",
            "Final Number of Clusters of K-means Split-Merge:4\n",
            "The RMSE and MAE for K-Means Split-Merge based CF-I with K=75:\n",
            "RMSE: 0.65596\n",
            "MAE: 0.56929\n",
            "Initial Number of Clusters of K-means Split-Merge:100\n",
            "Final Number of Clusters of K-means Split-Merge:5\n",
            "The RMSE and MAE for K-Means Split-Merge based CF-I with K=100:\n",
            "RMSE: 0.65578\n",
            "MAE: 0.56899\n",
            "[2, 3, 5, 3, 3, 3, 4, 4, 5]\n",
            "[0.6561, 0.65574, 0.65578, 0.65575, 0.65575, 0.65575, 0.65596, 0.65596, 0.65578]\n",
            "[0.56922, 0.56884, 0.56899, 0.5688, 0.5688, 0.5688, 0.56929, 0.56929, 0.56899]\n"
          ],
          "name": "stdout"
        }
      ]
    },
    {
      "cell_type": "code",
      "metadata": {
        "id": "9gdhi4Rc93Sy",
        "colab_type": "code",
        "outputId": "44e4f00c-cbef-41a2-c4bd-efe8ce9bcfb1",
        "colab": {
          "base_uri": "https://localhost:8080/",
          "height": 385
        }
      },
      "source": [
        "print(\"The mean MAE of K-Means Split-Merge based  CF-I: {0}\".format(np.mean(all_mae_splitmergekmeans)))\n",
        "print(\"The Std Dev of K-Means Split-Merge based  CF-I: {0}\".format(np.std(all_mae_splitmergekmeans)))\n",
        "\n",
        "fig4, ax4 = plt.subplots(figsize=(8,5))\n",
        "my_ticks = [i for i in range(len(K_values))]\n",
        "ax4.set_xticks(my_ticks)\n",
        "ax4.set_xticklabels(K_values)\n",
        "ax4.plot(my_ticks, all_mae_splitmergekmeans, label = \"K-Means Split-Merge\", marker='o')\n",
        "ax4.plot(my_ticks, [np.mean(all_mae_splitmergekmeans)]*len(my_ticks), label = \"Mean value K-Means Split-Merge\", marker='x')\n",
        "plt.xlabel('Number of Clusters')\n",
        "plt.ylabel('MAE')\n",
        "plt.title('')\n",
        "plt.legend()\n",
        "plt.savefig('drive/My Drive/Thesis/Mean.png')\n",
        "plt.show"
      ],
      "execution_count": 32,
      "outputs": [
        {
          "output_type": "stream",
          "text": [
            "The mean MAE of K-Means Split-Merge based  CF-I: 0.5690022222222223\n",
            "The Std Dev of K-Means Split-Merge based  CF-I: 0.00020065325413523143\n"
          ],
          "name": "stdout"
        },
        {
          "output_type": "execute_result",
          "data": {
            "text/plain": [
              "<function matplotlib.pyplot.show>"
            ]
          },
          "metadata": {
            "tags": []
          },
          "execution_count": 32
        },
        {
          "output_type": "display_data",
          "data": {
            "image/png": "[encoded data removed]",
            "text/plain": [
              "<Figure size 576x360 with 1 Axes>"
            ]
          },
          "metadata": {
            "tags": [],
            "needs_background": "light"
          }
        }
      ]
    },
    {
      "cell_type": "code",
      "metadata": {
        "id": "zUNvREhF8IrK",
        "colab_type": "code",
        "outputId": "9da773f8-4217-465e-f5b2-af2967b95ceb",
        "colab": {
          "base_uri": "https://localhost:8080/",
          "height": 504
        }
      },
      "source": [
        "# Executing the K-means for KNN with 5 nearest neighbors \n",
        "all_rmse_kmeans=[]\n",
        "all_mae_kmeans=[]\n",
        "for K in K_values:\n",
        "  clusters_kmeans, test_kmeans=kmeans(train, test, K)\n",
        "  print(\"The RMSE and MAE for K-Means based CF-I with K={0}:\".format(K))\n",
        "  rmse_kmeans, mae_kmeans = evaluateRS(clusters_kmeans, test_kmeans)\n",
        "\n",
        "  all_rmse_kmeans.append(rmse_kmeans)\n",
        "  all_mae_kmeans.append(mae_kmeans)\n",
        "\n",
        "print(all_rmse_kmeans)\n",
        "print(all_mae_kmeans)"
      ],
      "execution_count": 26,
      "outputs": [
        {
          "output_type": "stream",
          "text": [
            "The RMSE and MAE for K-Means based CF-I with K=2:\n",
            "RMSE: 0.6561\n",
            "MAE: 0.56922\n",
            "The RMSE and MAE for K-Means based CF-I with K=3:\n",
            "RMSE: 0.65574\n",
            "MAE: 0.56884\n",
            "The RMSE and MAE for K-Means based CF-I with K=5:\n",
            "RMSE: 0.65578\n",
            "MAE: 0.56899\n",
            "The RMSE and MAE for K-Means based CF-I with K=10:\n",
            "RMSE: 0.65571\n",
            "MAE: 0.56914\n",
            "The RMSE and MAE for K-Means based CF-I with K=15:\n",
            "RMSE: 0.65576\n",
            "MAE: 0.56933\n",
            "The RMSE and MAE for K-Means based CF-I with K=25:\n",
            "RMSE: 0.65576\n",
            "MAE: 0.56941\n",
            "The RMSE and MAE for K-Means based CF-I with K=50:\n",
            "RMSE: 0.65575\n",
            "MAE: 0.56933\n",
            "The RMSE and MAE for K-Means based CF-I with K=75:\n",
            "RMSE: 0.65577\n",
            "MAE: 0.56938\n",
            "The RMSE and MAE for K-Means based CF-I with K=100:\n",
            "RMSE: 0.65582\n",
            "MAE: 0.56939\n",
            "[0.6561, 0.65574, 0.65578, 0.65571, 0.65576, 0.65576, 0.65575, 0.65577, 0.65582]\n",
            "[0.56922, 0.56884, 0.56899, 0.56914, 0.56933, 0.56941, 0.56933, 0.56938, 0.56939]\n"
          ],
          "name": "stdout"
        }
      ]
    },
    {
      "cell_type": "code",
      "metadata": {
        "id": "cW9gWjx_8zvm",
        "colab_type": "code",
        "outputId": "9ec2bab7-6127-4611-88e7-64c3def1d368",
        "colab": {
          "base_uri": "https://localhost:8080/",
          "height": 504
        }
      },
      "source": [
        "# Executing the K-medoids for KNN with 5 nearest neighbors\n",
        "all_rmse_kmedoids=[]\n",
        "all_mae_kmedoids=[]\n",
        "for K in K_values:\n",
        "  clusters_kmedoids, test_kmedoids = kmedoids(train, test, K)\n",
        "  print(\"The RMSE and MAE for K-Medoids based CF-I with K={0}:\".format(K))\n",
        "  rmse_kmedoids, mae_kmedoids = evaluateRS(clusters_kmedoids, test_kmedoids)\n",
        "\n",
        "  all_rmse_kmedoids.append(rmse_kmedoids)\n",
        "  all_mae_kmedoids.append(mae_kmedoids)\n",
        "\n",
        "print(all_rmse_kmedoids)\n",
        "print(all_mae_kmedoids)"
      ],
      "execution_count": 27,
      "outputs": [
        {
          "output_type": "stream",
          "text": [
            "The RMSE and MAE for K-Medoids based CF-I with K=2:\n",
            "RMSE: 0.6561\n",
            "MAE: 0.56922\n",
            "The RMSE and MAE for K-Medoids based CF-I with K=3:\n",
            "RMSE: 0.65575\n",
            "MAE: 0.56878\n",
            "The RMSE and MAE for K-Medoids based CF-I with K=5:\n",
            "RMSE: 0.65574\n",
            "MAE: 0.56894\n",
            "The RMSE and MAE for K-Medoids based CF-I with K=10:\n",
            "RMSE: 0.65583\n",
            "MAE: 0.56935\n",
            "The RMSE and MAE for K-Medoids based CF-I with K=15:\n",
            "RMSE: 0.65566\n",
            "MAE: 0.56913\n",
            "The RMSE and MAE for K-Medoids based CF-I with K=25:\n",
            "RMSE: 0.65577\n",
            "MAE: 0.56945\n",
            "The RMSE and MAE for K-Medoids based CF-I with K=50:\n",
            "RMSE: 0.65556\n",
            "MAE: 0.56886\n",
            "The RMSE and MAE for K-Medoids based CF-I with K=75:\n",
            "RMSE: 0.65592\n",
            "MAE: 0.56949\n",
            "The RMSE and MAE for K-Medoids based CF-I with K=100:\n",
            "RMSE: 0.65579\n",
            "MAE: 0.56934\n",
            "[0.6561, 0.65575, 0.65574, 0.65583, 0.65566, 0.65577, 0.65556, 0.65592, 0.65579]\n",
            "[0.56922, 0.56878, 0.56894, 0.56935, 0.56913, 0.56945, 0.56886, 0.56949, 0.56934]\n"
          ],
          "name": "stdout"
        }
      ]
    },
    {
      "cell_type": "code",
      "metadata": {
        "id": "44XcWEHC9MVi",
        "colab_type": "code",
        "outputId": "5e9f6244-9572-40b8-81a6-6352056acbde",
        "colab": {
          "base_uri": "https://localhost:8080/",
          "height": 351
        }
      },
      "source": [
        "# Plot the MAE for all values of K for all clustering based collaborative filtering\n",
        "fig5, ax5 = plt.subplots(figsize=(8,5))\n",
        "my_ticks = [i for i in range(len(K_values))]\n",
        "ax5.set_xticks(my_ticks)\n",
        "ax5.set_xticklabels(K_values)\n",
        "ax5.plot(my_ticks, all_mae_kmeans, label = \"K-Means\", marker='o')\n",
        "ax5.plot(my_ticks, all_mae_kmedoids, label = \"K-Medoids\", marker='o')\n",
        "ax5.plot(my_ticks, all_mae_splitmergekmeans, label = \"K-Means Split-Merge\", marker='o')\n",
        "plt.xlabel('Number of Clusters')\n",
        "plt.ylabel('MAE')\n",
        "plt.title('')\n",
        "plt.legend()\n",
        "plt.savefig('drive/My Drive/Thesis/MAE_for_5NN.png')\n",
        "plt.show"
      ],
      "execution_count": 28,
      "outputs": [
        {
          "output_type": "execute_result",
          "data": {
            "text/plain": [
              "<function matplotlib.pyplot.show>"
            ]
          },
          "metadata": {
            "tags": []
          },
          "execution_count": 28
        },
        {
          "output_type": "display_data",
          "data": {
            "image/png": "[encoded data removed]",
            "text/plain": [
              "<Figure size 576x360 with 1 Axes>"
            ]
          },
          "metadata": {
            "tags": [],
            "needs_background": "light"
          }
        }
      ]
    },
    {
      "cell_type": "code",
      "metadata": {
        "id": "mVcoZpB7-hpq",
        "colab_type": "code",
        "outputId": "99cc1a3d-560d-44f3-94d3-4b08efffe6a9",
        "colab": {
          "base_uri": "https://localhost:8080/",
          "height": 351
        }
      },
      "source": [
        "# Plot the RMSE for all values of K for all clustering based collaborative filtering\n",
        "fig6, ax6 = plt.subplots(figsize=(8,5))\n",
        "my_ticks = [i for i in range(len(K_values))]\n",
        "ax6.set_xticks(my_ticks)\n",
        "ax6.set_xticklabels(K_values)\n",
        "ax6.plot(my_ticks, all_rmse_kmeans, label = \"K-Means\", marker='o')\n",
        "ax6.plot(my_ticks, all_rmse_kmedoids, label = \"K-Medoids\", marker='o')\n",
        "ax6.plot(my_ticks, all_rmse_splitmergekmeans, label = \"K-Means Split-Merge\", marker='o')\n",
        "plt.xlabel('Number of Clusters')\n",
        "plt.ylabel('RMSE')\n",
        "plt.title('')\n",
        "plt.legend()\n",
        "plt.savefig('drive/My Drive/Thesis/RMSE_for_5NN.png')\n",
        "plt.show"
      ],
      "execution_count": 29,
      "outputs": [
        {
          "output_type": "execute_result",
          "data": {
            "text/plain": [
              "<function matplotlib.pyplot.show>"
            ]
          },
          "metadata": {
            "tags": []
          },
          "execution_count": 29
        },
        {
          "output_type": "display_data",
          "data": {
            "image/png": "[encoded data removed]",
            "text/plain": [
              "<Figure size 576x360 with 1 Axes>"
            ]
          },
          "metadata": {
            "tags": [],
            "needs_background": "light"
          }
        }
      ]
    },
    {
      "cell_type": "code",
      "metadata": {
        "id": "i-5QaZKVptun",
        "colab_type": "code",
        "outputId": "2213425f-48d1-4e03-85c4-a2701aea226f",
        "colab": {
          "base_uri": "https://localhost:8080/",
          "height": 279
        }
      },
      "source": [
        "pd.DataFrame(np.c_[all_final_clus_count, K_values], index=K_values).plot.bar(rot=0)\n",
        "plt.legend(('K-Means Split-Merge', 'K-Means'))\n",
        "plt.xlabel('Initial Number of Clusters')\n",
        "plt.ylabel('Obtained Number of Clusters')\n",
        "plt.savefig('drive/My Drive/Thesis/Initial_Final_K.png')\n",
        "plt.show()"
      ],
      "execution_count": 30,
      "outputs": [
        {
          "output_type": "display_data",
          "data": {
            "image/png": "[encoded data removed]",
            "text/plain": [
              "<Figure size 432x288 with 1 Axes>"
            ]
          },
          "metadata": {
            "tags": [],
            "needs_background": "light"
          }
        }
      ]
    },
    {
      "cell_type": "code",
      "metadata": {
        "id": "wUUjbrYKE85p",
        "colab_type": "code",
        "outputId": "34200a6f-cdb2-4075-b8fc-a836fa2269b4",
        "colab": {
          "base_uri": "https://localhost:8080/",
          "height": 565
        }
      },
      "source": [
        "kmeans_mae_KNNvalues=[]\n",
        "kmedoids_mae_KNNvalues=[]\n",
        "splitmergekmeans_mae_KNNvalues=[]\n",
        "\n",
        "kmeans_mae_KNNvalues.append(all_mae_kmeans[3])\n",
        "kmedoids_mae_KNNvalues.append(all_mae_kmedoids[3])\n",
        "splitmergekmeans_mae_KNNvalues.append(all_mae_splitmergekmeans[3])\n",
        "\n",
        "clusters_kmeans, test_kmeans=kmeans(train, test, 10)\n",
        "rmse_kmeans, mae_kmeans = evaluateRS(clusters_kmeans, test_kmeans, 10)\n",
        "kmeans_mae_KNNvalues.append(mae_kmeans)\n",
        "rmse_kmeans, mae_kmeans = evaluateRS(clusters_kmeans, test_kmeans, 30)\n",
        "kmeans_mae_KNNvalues.append(mae_kmeans)\n",
        "\n",
        "clusters_kmedoids, test_kmedoids = kmedoids(train, test, 5)\n",
        "rmse_kmedoids, mae_kmedoids = evaluateRS(clusters_kmedoids, test_kmedoids, 10)\n",
        "kmedoids_mae_KNNvalues.append(mae_kmedoids)\n",
        "rmse_kmedoids, mae_kmedoids = evaluateRS(clusters_kmedoids, test_kmedoids, 30)\n",
        "kmedoids_mae_KNNvalues.append(mae_kmedoids)\n",
        "\n",
        "clusters_splitmergekmeans, test_splitmergekmeans, final_clus_count = kmeans_split_merge(train, test, 10)\n",
        "rmse_splitmergekmeans, mae_splitmergekmeans= evaluateRS(clusters_splitmergekmeans, test_splitmergekmeans, 10)\n",
        "splitmergekmeans_mae_KNNvalues.append(mae_splitmergekmeans)\n",
        "rmse_splitmergekmeans, mae_splitmergekmeans= evaluateRS(clusters_splitmergekmeans, test_splitmergekmeans, 30)\n",
        "splitmergekmeans_mae_KNNvalues.append(mae_splitmergekmeans)\n",
        "\n",
        "\n",
        "print(kmeans_mae_KNNvalues)\n",
        "print(kmedoids_mae_KNNvalues)\n",
        "print(splitmergekmeans_mae_KNNvalues)\n",
        "\n",
        "new_plot_df=pd.DataFrame(np.c_[kmeans_mae_KNNvalues,kmedoids_mae_KNNvalues,splitmergekmeans_mae_KNNvalues], index=[5,10,30])\n",
        "new_plot_df.plot.bar(rot=0)\n",
        "max_val=new_plot_df.values.max()\n",
        "min_val=new_plot_df.values.min()\n",
        "plt.ylim(min_val-0.005, max_val+0.005)\n",
        "plt.legend(('K-Means','K-Medoids','K-Means Split-Merge'))\n",
        "plt.xlabel('K Neighbors')\n",
        "plt.ylabel('MAE')\n",
        "plt.savefig('drive/My Drive/Thesis/differentK_mae.png')\n",
        "plt.show()"
      ],
      "execution_count": 31,
      "outputs": [
        {
          "output_type": "stream",
          "text": [
            "RMSE: 0.65512\n",
            "MAE: 0.56854\n",
            "RMSE: 0.65455\n",
            "MAE: 0.56772\n",
            "RMSE: 0.65534\n",
            "MAE: 0.56851\n",
            "RMSE: 0.65474\n",
            "MAE: 0.56793\n",
            "Initial Number of Clusters of K-means Split-Merge:10\n",
            "Final Number of Clusters of K-means Split-Merge:3\n",
            "RMSE: 0.6551\n",
            "MAE: 0.56818\n",
            "RMSE: 0.65485\n",
            "MAE: 0.5678\n",
            "[0.56914, 0.56854, 0.56772]\n",
            "[0.56935, 0.56851, 0.56793]\n",
            "[0.5688, 0.56818, 0.5678]\n"
          ],
          "name": "stdout"
        },
        {
          "output_type": "display_data",
          "data": {
            "image/png": "[encoded data removed]",
            "text/plain": [
              "<Figure size 432x288 with 1 Axes>"
            ]
          },
          "metadata": {
            "tags": [],
            "needs_background": "light"
          }
        }
      ]
    }
  ]
}